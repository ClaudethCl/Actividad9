{
 "cells": [
  {
   "cell_type": "code",
   "execution_count": 1,
   "metadata": {},
   "outputs": [],
   "source": [
    "#librerías \n",
    "#import pandas as pd\n",
    "#import numpy as np\n",
    "#import matplotlib.pyplot as plt\n",
    "#import seaborn as sns\n",
    "#import math\n",
    "#import datetime"
   ]
  },
  {
   "cell_type": "code",
   "execution_count": 2,
   "metadata": {},
   "outputs": [],
   "source": [
    "def vectorfield(w, t, p):\n",
    "    \"\"\"\n",
    "    Definimos las ecuaciones diferenciales para el sistema acoplado masa-resorte.\n",
    "\n",
    "    Argumentos:\n",
    "        w :  vector de variables de estado:\n",
    "                  w = [x1,y1,x2,y2]\n",
    "        t :  tiempo\n",
    "        p :  vector de parámetros:\n",
    "                  p = [m1,m2,k1,k2,L1,L2,b1,b2]\n",
    "    \"\"\"\n",
    "    x1, y1, x2, y2 = w\n",
    "    m1, m2, k1, k2, k3, L1, L2, b1, b2,b3 = p\n",
    "\n",
    "    # Create f = (x1',y1',x2',y2'):\n",
    "    f = [y1,\n",
    "         (-b1 * y1 - k1 * (x1 - L1) - k2 * ( x1 - L1 + L2 - x2 )) / m1,\n",
    "         y2,\n",
    "         (-b2 * y2 - k3 * ( x2 - L2 ) - k2 * ( x2 - L2 + L1 - x1 ))/ m2]\n",
    "    return f"
   ]
  },
  {
   "cell_type": "code",
   "execution_count": 6,
   "metadata": {},
   "outputs": [],
   "source": [
    "# Usa ODEINT para resolver ecuaciones diferenciales por un campo vectorial\n",
    "from scipy.integrate import odeint\n",
    "#Valores de los parámetros\n",
    "#Las masas son:\n",
    "m1 = 1.0\n",
    "m2 = 1.0\n",
    "#Los constantes de los resortes\n",
    "k1 = 2.0\n",
    "k2 = 2.0\n",
    "k3 = 2.0\n",
    "#Longitudes naturales\n",
    "L1 = 1.5\n",
    "L2 = 1.5\n",
    "#Coeficientes de fricción\n",
    "b1 = 0.01\n",
    "b2 = 0.01\n",
    "b3 = 0.01\n",
    "#Condiciones iniciales\n",
    "#x1 y x2 son los desplazamientos iniciales; y1 y y2 son las velocidades iniciales\n",
    "x1 = 1.0\n",
    "y1 = 0.0\n",
    "x2 = 0.0\n",
    "y2 = 0.0\n",
    "\n",
    "# ODE parámetros solucionadores\n",
    "abserr = 1.0e-8\n",
    "relerr = 1.0e-6\n",
    "stoptime = 10.0\n",
    "numpoints = 250\n",
    "\n",
    "#Crea las muestras de tiempo para la salida del solucionador ODE.\n",
    "# Se usará un número grande de puntos para que la solución se vea más bonita\n",
    "t = [stoptime * float(i) / (numpoints - 1) for i in range(numpoints)]\n",
    "\n",
    "# Pack up the parameters and initial conditions:\n",
    "p = [m1, m2, k1, k2, k3, L1, L2, b1, b2, b3]\n",
    "w0 = [x1, y1, x2, y2]\n",
    "\n",
    "# Call the ODE solver.\n",
    "wsol = odeint(vectorfield, w0, t, args=(p,), atol=abserr, rtol=relerr)\n",
    "for t1, w1 in zip(t, wsol): \n",
    "    print(t1, w1[0], w1[1], w1[2], w1[3], file=open(\"two_springs.dat\", \"a\"))"
   ]
  },
  {
   "cell_type": "code",
   "execution_count": 8,
   "metadata": {},
   "outputs": [
    {
     "ename": "NameError",
     "evalue": "name 'figure' is not defined",
     "output_type": "error",
     "traceback": [
      "\u001b[0;31m---------------------------------------------------------------------------\u001b[0m",
      "\u001b[0;31mNameError\u001b[0m                                 Traceback (most recent call last)",
      "\u001b[0;32m<ipython-input-8-4027789f7606>\u001b[0m in \u001b[0;36m<module>\u001b[0;34m\u001b[0m\n\u001b[1;32m      7\u001b[0m \u001b[0mt\u001b[0m\u001b[0;34m,\u001b[0m \u001b[0mx1\u001b[0m\u001b[0;34m,\u001b[0m \u001b[0mxy\u001b[0m\u001b[0;34m,\u001b[0m \u001b[0mx2\u001b[0m\u001b[0;34m,\u001b[0m \u001b[0my2\u001b[0m \u001b[0;34m=\u001b[0m \u001b[0mloadtxt\u001b[0m\u001b[0;34m(\u001b[0m\u001b[0;34m'two_springs.dat'\u001b[0m\u001b[0;34m,\u001b[0m \u001b[0munpack\u001b[0m\u001b[0;34m=\u001b[0m\u001b[0;32mTrue\u001b[0m\u001b[0;34m)\u001b[0m\u001b[0;34m\u001b[0m\u001b[0;34m\u001b[0m\u001b[0m\n\u001b[1;32m      8\u001b[0m \u001b[0;34m\u001b[0m\u001b[0m\n\u001b[0;32m----> 9\u001b[0;31m \u001b[0mfigure\u001b[0m\u001b[0;34m(\u001b[0m\u001b[0;36m1\u001b[0m\u001b[0;34m,\u001b[0m \u001b[0mfigsize\u001b[0m\u001b[0;34m=\u001b[0m\u001b[0;34m(\u001b[0m\u001b[0;36m6\u001b[0m\u001b[0;34m,\u001b[0m \u001b[0;36m4.5\u001b[0m\u001b[0;34m)\u001b[0m\u001b[0;34m)\u001b[0m\u001b[0;34m\u001b[0m\u001b[0;34m\u001b[0m\u001b[0m\n\u001b[0m\u001b[1;32m     10\u001b[0m \u001b[0;34m\u001b[0m\u001b[0m\n\u001b[1;32m     11\u001b[0m \u001b[0mxlabel\u001b[0m\u001b[0;34m(\u001b[0m\u001b[0;34m't'\u001b[0m\u001b[0;34m)\u001b[0m\u001b[0;34m\u001b[0m\u001b[0;34m\u001b[0m\u001b[0m\n",
      "\u001b[0;31mNameError\u001b[0m: name 'figure' is not defined"
     ]
    }
   ],
   "source": [
    "# Plot the solution that was generated\n",
    "\n",
    "from numpy import loadtxt\n",
    "import matplotlib.pyplot as plt\n",
    "from matplotlib.font_manager import FontProperties\n",
    "\n",
    "t, x1, xy, x2, y2 = loadtxt('two_springs.dat', unpack=True)\n",
    "\n",
    "figure(1, figsize=(6, 4.5))\n",
    "\n",
    "#xlabel('t')\n",
    "#grid(True)\n",
    "#hold(True)\n",
    "#lw = 1\n",
    "\n",
    "plt.figure(figsize = (7,5.8))\n",
    "plt.xlabel = ('Tiempo (s)')\n",
    "plt.ylabel = ('Posición')\n",
    "plt.grid(True)\n",
    "lw = 1\n",
    "\n",
    "plt.plot(t, x1, 'k', linewidth=lw)\n",
    "plt.plot(t, x2, 'm', linewidth=lw)\n",
    "\n",
    "plt.legend((r'$x_1$', r'$x_2$'), prop=FontProperties(size=16))\n",
    "plt.title('Desplazamiento de las masas para un sistema acoplado')\n",
    "plt.savefig('two_springs.png', dpi=100)\n",
    "plt.show()"
   ]
  },
  {
   "cell_type": "code",
   "execution_count": null,
   "metadata": {},
   "outputs": [],
   "source": []
  }
 ],
 "metadata": {
  "kernelspec": {
   "display_name": "Python 3",
   "language": "python",
   "name": "python3"
  },
  "language_info": {
   "codemirror_mode": {
    "name": "ipython",
    "version": 3
   },
   "file_extension": ".py",
   "mimetype": "text/x-python",
   "name": "python",
   "nbconvert_exporter": "python",
   "pygments_lexer": "ipython3",
   "version": "3.7.3"
  }
 },
 "nbformat": 4,
 "nbformat_minor": 2
}
